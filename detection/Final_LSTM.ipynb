{
 "cells": [
  {
   "cell_type": "code",
   "execution_count": 10,
   "metadata": {
    "id": "nUhaWFhvttOH"
   },
   "outputs": [],
   "source": [
    "import os\n",
    "import pandas as pd\n",
    "import numpy as np\n",
    "import json"
   ]
  },
  {
   "cell_type": "code",
   "execution_count": 11,
   "metadata": {},
   "outputs": [
    {
     "name": "stdout",
     "output_type": "stream",
     "text": [
      "HF_HOME: /home/hice1/kpereira6/scratch/ConvAI/hf_cache\n",
      "HF_DATASETS_CACHE: /home/hice1/kpereira6/scratch/ConvAI/hf_cache\n",
      "TRANSFORMERS_CACHE: /home/hice1/kpereira6/scratch/ConvAI/hf_cache\n"
     ]
    }
   ],
   "source": [
    "\n",
    "# Set environment variables\n",
    "os.environ[\"HF_HOME\"] = \"/home/hice1/kpereira6/scratch/ConvAI/hf_cache\"\n",
    "os.environ[\"HF_DATASETS_CACHE\"] = \"/home/hice1/kpereira6/scratch/ConvAI/hf_cache\"\n",
    "os.environ[\"TRANSFORMERS_CACHE\"] = \"/home/hice1/kpereira6/scratch/ConvAI/hf_cache\"\n",
    "\n",
    "# Verify the variables (optional)\n",
    "print(\"HF_HOME:\", os.environ.get(\"HF_HOME\"))\n",
    "print(\"HF_DATASETS_CACHE:\", os.environ.get(\"HF_DATASETS_CACHE\"))\n",
    "print(\"TRANSFORMERS_CACHE:\", os.environ.get(\"TRANSFORMERS_CACHE\"))"
   ]
  },
  {
   "cell_type": "code",
   "execution_count": 12,
   "metadata": {
    "id": "87k8Oj8-cqbu"
   },
   "outputs": [],
   "source": [
    "from torch.utils.data import Dataset\n",
    "import torch\n",
    "from transformers import BertTokenizer\n",
    "\n",
    "class ToxicityDataset(Dataset):\n",
    "    def __init__(self, conversations, labels, tokenizer, max_turns=10, max_length=128):\n",
    "        self.conversations = conversations  # Conversations as a list of user-bot alternating turns\n",
    "        self.labels = labels  # Toxicity labels (0 for non-toxic, 1 for toxic)\n",
    "        self.tokenizer = tokenizer\n",
    "        self.max_turns = max_turns  # Number of previous turns to consider\n",
    "        self.max_length = max_length  # Max length of input sequences\n",
    "\n",
    "    def __len__(self):\n",
    "        return len(self.conversations)\n",
    "\n",
    "    def __getitem__(self, idx):\n",
    "        conversation = self.conversations[idx]  # List of turns in a conversation (alternating user and bot)\n",
    "        label = self.labels[idx]\n",
    "\n",
    "        # Ensure we have a maximum number of turns (only consider the last 'max_turns' turns)\n",
    "        conversation = conversation[-self.max_turns:]\n",
    "\n",
    "        if len(conversation) < self.max_turns:\n",
    "            conversation = [\"\"] * (self.max_turns - len(conversation)) + conversation\n",
    "\n",
    "        # Tokenize turns and create input sequences for BERT\n",
    "        tokenized_turns = []\n",
    "        attention_masks = []\n",
    "\n",
    "        for turn in conversation:\n",
    "            encoded = self.tokenizer(turn,\n",
    "                                     padding='max_length',\n",
    "                                     truncation=True,\n",
    "                                     max_length=self.max_length,\n",
    "                                     return_tensors=\"pt\")\n",
    "            tokenized_turns.append(encoded['input_ids'].squeeze(0))  # shape (max_length,)\n",
    "            attention_masks.append(encoded['attention_mask'].squeeze(0))  # shape (max_length,)\n",
    "\n",
    "        # Convert lists of tensors to tensors of shape (num_turns, max_length)\n",
    "        tokenized_turns = torch.stack(tokenized_turns)  # (num_turns, max_length)\n",
    "        attention_masks = torch.stack(attention_masks)  # (num_turns, max_length)\n",
    "\n",
    "        # Return a tensor of tokenized turns and attention masks, along with the label\n",
    "        return tokenized_turns, attention_masks, torch.tensor(label, dtype=torch.float)\n"
   ]
  },
  {
   "cell_type": "code",
   "execution_count": 13,
   "metadata": {
    "id": "99gQ6gvRcra3"
   },
   "outputs": [],
   "source": [
    "import torch\n",
    "import torch.nn as nn\n",
    "from transformers import BertModel\n",
    "\n",
    "class MultiTurnToxicityModelLSTM(nn.Module):\n",
    "    def __init__(self, bert_model_name='bert-base-uncased', hidden_dim=768, lstm_hidden_dim=512, num_layers=1, dropout_rate=0.3):\n",
    "        super(MultiTurnToxicityModelLSTM, self).__init__()\n",
    "\n",
    "        # Load pretrained BERT\n",
    "        self.bert = BertModel.from_pretrained(bert_model_name)\n",
    "\n",
    "        # Freeze BERT layers if you do not want to train them\n",
    "        for param in self.bert.parameters():\n",
    "            param.requires_grad = False\n",
    "\n",
    "        # LSTM to model multi-turn context\n",
    "        self.lstm = nn.LSTM(\n",
    "            input_size=hidden_dim,\n",
    "            hidden_size=lstm_hidden_dim,\n",
    "            num_layers=num_layers,\n",
    "            batch_first=True,\n",
    "            dropout=dropout_rate if num_layers > 1 else 0  # Apply dropout only if more than one layer\n",
    "        )\n",
    "\n",
    "        # Fully connected layer for toxicity classification\n",
    "        self.fc = nn.Linear(lstm_hidden_dim, 1)\n",
    "\n",
    "        # Sigmoid activation for binary classification\n",
    "        self.sigmoid = nn.Sigmoid()\n",
    "\n",
    "    def forward(self, tokenized_turns, attention_masks):\n",
    "        turn_embeddings = []\n",
    "\n",
    "        # Process each turn independently using BERT\n",
    "        for i in range(len(tokenized_turns)):\n",
    "            outputs = self.bert(input_ids=tokenized_turns[i], attention_mask=attention_masks[i])\n",
    "            cls_embedding = outputs.last_hidden_state[:, 0, :]  # CLS token embedding for each turn\n",
    "            turn_embeddings.append(cls_embedding)\n",
    "\n",
    "        # Stack the turn embeddings (batch_size, num_turns, hidden_dim)\n",
    "        turn_embeddings = torch.stack(turn_embeddings, dim=0)\n",
    "\n",
    "        # Pass the embeddings through the LSTM\n",
    "        lstm_output, (hidden, _) = self.lstm(turn_embeddings)  # hidden: (num_layers, batch_size, lstm_hidden_dim)\n",
    "\n",
    "        # Use the hidden state of the last LSTM layer for classification\n",
    "        final_hidden_state = hidden[-1]  # (batch_size, lstm_hidden_dim)\n",
    "\n",
    "        # Final classification layer to predict toxicity of the last bot turn\n",
    "        logits = self.fc(final_hidden_state)  # (batch_size, 1)\n",
    "        return self.sigmoid(logits)  # Output probability of toxicity\n",
    "\n"
   ]
  },
  {
   "cell_type": "code",
   "execution_count": 14,
   "metadata": {
    "id": "bCBiuwZtiMoD"
   },
   "outputs": [],
   "source": [
    "import matplotlib.pyplot as plt\n",
    "import torch.optim as optim\n",
    "from torch.utils.data import DataLoader"
   ]
  },
  {
   "cell_type": "code",
   "execution_count": 15,
   "metadata": {
    "id": "d5Bxs1OPgRXw"
   },
   "outputs": [],
   "source": [
    "tokenizer = BertTokenizer.from_pretrained('bert-base-uncased')\n",
    "\n",
    "def load_dataset(json_file):\n",
    "    with open(json_file, 'r') as f:\n",
    "        data = json.load(f)\n",
    "    conversations = [item['conversation'] for item in data]\n",
    "    labels = [item['label'] for item in data]\n",
    "    return conversations, labels\n",
    "\n",
    "# Load datasets\n",
    "train_conversations, train_labels = load_dataset('train.json')\n",
    "val_conversations, val_labels = load_dataset('eval.json')\n",
    "test_conversations, test_labels = load_dataset('test.json')\n",
    "\n",
    "# Create the datasets\n",
    "train_dataset = ToxicityDataset(train_conversations, train_labels, tokenizer)\n",
    "val_dataset = ToxicityDataset(val_conversations, val_labels, tokenizer)\n",
    "test_dataset = ToxicityDataset(test_conversations, test_labels, tokenizer)\n",
    "\n",
    "# Create dataloaders\n",
    "train_loader = DataLoader(train_dataset, batch_size=4, shuffle=True)\n",
    "val_loader = DataLoader(val_dataset, batch_size=4, shuffle=False)"
   ]
  },
  {
   "cell_type": "code",
   "execution_count": 16,
   "metadata": {},
   "outputs": [],
   "source": [
    "save_path = 'best_model_lstm.pth'\n",
    "best_val_accuracy = 0.0"
   ]
  },
  {
   "cell_type": "code",
   "execution_count": 29,
   "metadata": {
    "colab": {
     "base_uri": "https://localhost:8080/",
     "height": 388,
     "referenced_widgets": [
      "46c605edb6354484b2d9f852c69e5dcd",
      "f649e6b04e9d470896b427976dee5cff",
      "14212d78bf3f4aaeb50eba43845a5e53",
      "801fd9214f5a43fc8a31762fa49f104e",
      "ea8a5d9f27ed4bec96d551b3c121dd17",
      "e52caad09caf43448da40e3c177f9cbf",
      "b3edb41988b6483f9b435c812297e85c",
      "5762607b3b5d4dab8eeeaa4bab750977",
      "1a26234c9c934ce99f2b5ac6a9f3a2fa",
      "6b02348dab8046d3a556ba0a2833e63a",
      "e0284b005daa4c00a006463e6ae60dea"
     ]
    },
    "id": "paizfe0qiw5L",
    "outputId": "d2a6e7cc-a37c-4410-b59d-19796b0b68a0"
   },
   "outputs": [
    {
     "name": "stdout",
     "output_type": "stream",
     "text": [
      "Model weights saved at epoch 1 with validation accuracy: 0.6075\n",
      "Epoch 1, Train Loss: 0.6663, Train Accuracy: 0.5968, Val Loss: 0.6666, Val Accuracy: 0.6075\n",
      "Model weights saved at epoch 2 with validation accuracy: 0.6262\n",
      "Epoch 2, Train Loss: 0.6465, Train Accuracy: 0.6333, Val Loss: 0.6488, Val Accuracy: 0.6262\n",
      "Model weights saved at epoch 3 with validation accuracy: 0.6555\n",
      "Epoch 3, Train Loss: 0.6258, Train Accuracy: 0.6582, Val Loss: 0.6198, Val Accuracy: 0.6555\n",
      "Model weights saved at epoch 4 with validation accuracy: 0.6622\n",
      "Epoch 4, Train Loss: 0.6035, Train Accuracy: 0.6721, Val Loss: 0.6105, Val Accuracy: 0.6622\n",
      "Model weights saved at epoch 5 with validation accuracy: 0.6836\n",
      "Epoch 5, Train Loss: 0.5849, Train Accuracy: 0.6918, Val Loss: 0.5882, Val Accuracy: 0.6836\n",
      "Model weights saved at epoch 6 with validation accuracy: 0.6903\n",
      "Epoch 6, Train Loss: 0.5775, Train Accuracy: 0.6951, Val Loss: 0.5779, Val Accuracy: 0.6903\n",
      "Epoch 7, Train Loss: 0.5673, Train Accuracy: 0.7075, Val Loss: 0.5817, Val Accuracy: 0.6849\n",
      "Model weights saved at epoch 8 with validation accuracy: 0.6996\n",
      "Epoch 8, Train Loss: 0.5566, Train Accuracy: 0.7154, Val Loss: 0.5597, Val Accuracy: 0.6996\n",
      "Model weights saved at epoch 9 with validation accuracy: 0.7009\n",
      "Epoch 9, Train Loss: 0.5506, Train Accuracy: 0.7169, Val Loss: 0.5648, Val Accuracy: 0.7009\n",
      "Model weights saved at epoch 10 with validation accuracy: 0.7156\n",
      "Epoch 10, Train Loss: 0.5402, Train Accuracy: 0.7356, Val Loss: 0.5476, Val Accuracy: 0.7156\n",
      "Epoch 11, Train Loss: 0.5388, Train Accuracy: 0.7329, Val Loss: 0.5518, Val Accuracy: 0.7156\n",
      "Model weights saved at epoch 12 with validation accuracy: 0.7290\n",
      "Epoch 12, Train Loss: 0.5345, Train Accuracy: 0.7366, Val Loss: 0.5383, Val Accuracy: 0.7290\n",
      "Model weights saved at epoch 13 with validation accuracy: 0.7303\n",
      "Epoch 13, Train Loss: 0.5265, Train Accuracy: 0.7417, Val Loss: 0.5397, Val Accuracy: 0.7303\n",
      "Epoch 14, Train Loss: 0.5194, Train Accuracy: 0.7457, Val Loss: 0.5471, Val Accuracy: 0.7223\n",
      "Model weights saved at epoch 15 with validation accuracy: 0.7383\n",
      "Epoch 15, Train Loss: 0.5187, Train Accuracy: 0.7524, Val Loss: 0.5345, Val Accuracy: 0.7383\n",
      "Epoch 16, Train Loss: 0.5067, Train Accuracy: 0.7498, Val Loss: 0.5511, Val Accuracy: 0.7170\n",
      "Epoch 17, Train Loss: 0.5055, Train Accuracy: 0.7542, Val Loss: 0.5337, Val Accuracy: 0.7330\n",
      "Epoch 18, Train Loss: 0.5014, Train Accuracy: 0.7660, Val Loss: 0.5328, Val Accuracy: 0.7330\n",
      "Epoch 19, Train Loss: 0.4994, Train Accuracy: 0.7490, Val Loss: 0.5324, Val Accuracy: 0.7276\n",
      "Model weights saved at epoch 20 with validation accuracy: 0.7450\n",
      "Epoch 20, Train Loss: 0.4963, Train Accuracy: 0.7637, Val Loss: 0.5235, Val Accuracy: 0.7450\n",
      "Epoch 21, Train Loss: 0.4910, Train Accuracy: 0.7670, Val Loss: 0.5191, Val Accuracy: 0.7423\n",
      "Epoch 22, Train Loss: 0.4832, Train Accuracy: 0.7695, Val Loss: 0.5547, Val Accuracy: 0.7130\n",
      "Model weights saved at epoch 23 with validation accuracy: 0.7463\n",
      "Epoch 23, Train Loss: 0.4857, Train Accuracy: 0.7677, Val Loss: 0.5264, Val Accuracy: 0.7463\n",
      "Epoch 24, Train Loss: 0.4786, Train Accuracy: 0.7725, Val Loss: 0.5458, Val Accuracy: 0.7370\n",
      "Epoch 25, Train Loss: 0.4772, Train Accuracy: 0.7706, Val Loss: 0.5359, Val Accuracy: 0.7316\n",
      "Epoch 26, Train Loss: 0.4664, Train Accuracy: 0.7800, Val Loss: 0.5317, Val Accuracy: 0.7410\n",
      "Epoch 27, Train Loss: 0.4587, Train Accuracy: 0.7821, Val Loss: 0.5492, Val Accuracy: 0.7383\n",
      "Epoch 28, Train Loss: 0.4649, Train Accuracy: 0.7825, Val Loss: 0.5323, Val Accuracy: 0.7397\n",
      "Epoch 29, Train Loss: 0.4643, Train Accuracy: 0.7809, Val Loss: 0.5406, Val Accuracy: 0.7410\n",
      "Model weights saved at epoch 30 with validation accuracy: 0.7503\n",
      "Epoch 30, Train Loss: 0.4555, Train Accuracy: 0.7813, Val Loss: 0.5270, Val Accuracy: 0.7503\n",
      "Epoch 31, Train Loss: 0.4522, Train Accuracy: 0.7912, Val Loss: 0.5275, Val Accuracy: 0.7397\n",
      "Epoch 32, Train Loss: 0.4419, Train Accuracy: 0.7949, Val Loss: 0.5516, Val Accuracy: 0.7383\n",
      "Epoch 33, Train Loss: 0.4479, Train Accuracy: 0.7868, Val Loss: 0.5496, Val Accuracy: 0.7263\n",
      "Epoch 34, Train Loss: 0.4377, Train Accuracy: 0.7966, Val Loss: 0.5408, Val Accuracy: 0.7397\n",
      "Epoch 35, Train Loss: 0.4268, Train Accuracy: 0.8046, Val Loss: 0.5911, Val Accuracy: 0.6996\n",
      "Epoch 36, Train Loss: 0.4342, Train Accuracy: 0.8021, Val Loss: 0.5422, Val Accuracy: 0.7450\n",
      "Model weights saved at epoch 37 with validation accuracy: 0.7543\n",
      "Epoch 37, Train Loss: 0.4261, Train Accuracy: 0.8033, Val Loss: 0.5223, Val Accuracy: 0.7543\n",
      "Epoch 38, Train Loss: 0.4327, Train Accuracy: 0.8008, Val Loss: 0.5594, Val Accuracy: 0.7250\n",
      "Epoch 39, Train Loss: 0.4101, Train Accuracy: 0.8132, Val Loss: 0.5323, Val Accuracy: 0.7503\n",
      "Epoch 40, Train Loss: 0.4225, Train Accuracy: 0.7972, Val Loss: 0.5472, Val Accuracy: 0.7383\n",
      "Epoch 41, Train Loss: 0.4108, Train Accuracy: 0.8083, Val Loss: 0.5549, Val Accuracy: 0.7303\n",
      "Epoch 42, Train Loss: 0.4047, Train Accuracy: 0.8151, Val Loss: 0.5533, Val Accuracy: 0.7383\n",
      "Epoch 43, Train Loss: 0.4051, Train Accuracy: 0.8157, Val Loss: 0.5509, Val Accuracy: 0.7290\n",
      "Epoch 44, Train Loss: 0.3944, Train Accuracy: 0.8207, Val Loss: 0.5811, Val Accuracy: 0.7183\n",
      "Epoch 45, Train Loss: 0.3868, Train Accuracy: 0.8272, Val Loss: 0.5803, Val Accuracy: 0.7170\n",
      "Epoch 46, Train Loss: 0.3931, Train Accuracy: 0.8237, Val Loss: 0.5575, Val Accuracy: 0.7316\n",
      "Epoch 47, Train Loss: 0.3832, Train Accuracy: 0.8285, Val Loss: 0.5520, Val Accuracy: 0.7490\n",
      "Epoch 48, Train Loss: 0.3806, Train Accuracy: 0.8281, Val Loss: 0.5780, Val Accuracy: 0.7397\n",
      "Epoch 49, Train Loss: 0.3768, Train Accuracy: 0.8255, Val Loss: 0.5695, Val Accuracy: 0.7276\n",
      "Epoch 50, Train Loss: 0.3640, Train Accuracy: 0.8362, Val Loss: 0.6165, Val Accuracy: 0.6969\n",
      "Epoch 51, Train Loss: 0.3603, Train Accuracy: 0.8352, Val Loss: 0.6044, Val Accuracy: 0.7276\n"
     ]
    }
   ],
   "source": [
    "import matplotlib.pyplot as plt\n",
    "import torch.optim as optim\n",
    "from torch.utils.data import DataLoader\n",
    "# Instantiate the model\n",
    "model = MultiTurnToxicityModelLSTM()\n",
    "\n",
    "# Loss function and optimizer\n",
    "criterion = nn.BCELoss()  # Binary cross-entropy loss\n",
    "optimizer = optim.AdamW(model.parameters(), lr=2e-5)\n",
    "\n",
    "# Device setup\n",
    "device = torch.device('cuda' if torch.cuda.is_available() else 'cpu')\n",
    "model.to(device)\n",
    "\n",
    "# Lists to store loss and accuracy\n",
    "train_loss_values = []\n",
    "val_loss_values = []\n",
    "train_accuracy_values = []\n",
    "val_accuracy_values = []\n",
    "\n",
    "# Training loop\n",
    "# Training loop\n",
    "for epoch in range(51):\n",
    "    # Training phase\n",
    "    model.train()\n",
    "    train_total_loss = 0.0\n",
    "    train_correct_predictions = 0\n",
    "    train_total_samples = 0\n",
    "\n",
    "    for tokenized_turns, attention_masks, labels in train_loader:\n",
    "        tokenized_turns = tokenized_turns.to(device)  # (batch_size, num_turns, seq_len)\n",
    "        attention_masks = attention_masks.to(device)  # (batch_size, num_turns, seq_len)\n",
    "        labels = labels.to(device)  # (batch_size, 1)\n",
    "\n",
    "        # Zero the gradients\n",
    "        optimizer.zero_grad()\n",
    "\n",
    "        # Forward pass\n",
    "        outputs = model(tokenized_turns, attention_masks)\n",
    "\n",
    "        # Compute loss\n",
    "        loss = criterion(outputs.squeeze(), labels.squeeze())\n",
    "\n",
    "        # Backward pass and optimization\n",
    "        loss.backward()\n",
    "        optimizer.step()\n",
    "\n",
    "        train_total_loss += loss.item()\n",
    "\n",
    "        # Compute accuracy\n",
    "        predicted = (outputs.squeeze() > 0.5).float()  # Convert probabilities to binary predictions\n",
    "        train_correct_predictions += (predicted == labels).sum().item()\n",
    "        train_total_samples += labels.size(0)\n",
    "\n",
    "    train_avg_loss = train_total_loss / len(train_loader)\n",
    "    train_accuracy = train_correct_predictions / train_total_samples\n",
    "\n",
    "    train_loss_values.append(train_avg_loss)\n",
    "    train_accuracy_values.append(train_accuracy)\n",
    "\n",
    "    # Validation phase\n",
    "    model.eval()\n",
    "    val_total_loss = 0.0\n",
    "    val_correct_predictions = 0\n",
    "    val_total_samples = 0\n",
    "\n",
    "    with torch.no_grad():\n",
    "        for tokenized_turns, attention_masks, labels in val_loader:\n",
    "            tokenized_turns = tokenized_turns.to(device)\n",
    "            attention_masks = attention_masks.to(device)\n",
    "            labels = labels.to(device)\n",
    "\n",
    "            outputs = model(tokenized_turns, attention_masks)\n",
    "\n",
    "            loss = criterion(outputs.squeeze(), labels.squeeze())\n",
    "            val_total_loss += loss.item()\n",
    "\n",
    "            predicted = (outputs.squeeze() > 0.5).float()\n",
    "            val_correct_predictions += (predicted == labels).sum().item()\n",
    "            val_total_samples += labels.size(0)\n",
    "\n",
    "    val_avg_loss = val_total_loss / len(val_loader)\n",
    "    val_accuracy = val_correct_predictions / val_total_samples\n",
    "\n",
    "    val_loss_values.append(val_avg_loss)\n",
    "    val_accuracy_values.append(val_accuracy)\n",
    "    \n",
    "    if val_accuracy > best_val_accuracy:\n",
    "        best_val_accuracy = val_accuracy\n",
    "        # Save the model weights\n",
    "        torch.save(model.state_dict(), save_path)\n",
    "        print(f\"Model weights saved at epoch {epoch + 1} with validation accuracy: {val_accuracy:.4f}\")\n",
    "\n",
    "    \n",
    "\n",
    "    print(f\"Epoch {epoch + 1}, Train Loss: {train_avg_loss:.4f}, Train Accuracy: {train_accuracy:.4f}, \"\n",
    "          f\"Val Loss: {val_avg_loss:.4f}, Val Accuracy: {val_accuracy:.4f}\")\n",
    "\n",
    "\n"
   ]
  },
  {
   "cell_type": "code",
   "execution_count": 33,
   "metadata": {},
   "outputs": [
    {
     "name": "stdout",
     "output_type": "stream",
     "text": [
      "Test Loss: 0.5865, Test Accuracy: 0.7276\n",
      "\n",
      "Classification Report:\n",
      "              precision    recall  f1-score   support\n",
      "\n",
      "     Class 0       0.68      0.62      0.64       599\n",
      "     Class 1       0.76      0.80      0.78       895\n",
      "\n",
      "    accuracy                           0.73      1494\n",
      "   macro avg       0.72      0.71      0.71      1494\n",
      "weighted avg       0.72      0.73      0.73      1494\n",
      "\n"
     ]
    }
   ],
   "source": [
    "# Evaluate the model on the test set\n",
    "test_loader = DataLoader(test_dataset, batch_size=4, shuffle=False)\n",
    "criterion = nn.BCELoss()  # Binary cross-entropy loss\n",
    "optimizer = optim.AdamW(model.parameters(), lr=2e-5)\n",
    "model.eval()\n",
    "test_total_loss = 0.0\n",
    "test_correct_predictions = 0\n",
    "test_total_samples = 0\n",
    "device = 'cuda'\n",
    "all_labels = []\n",
    "all_predictions = []\n",
    "model = model.to(device)\n",
    "# Use torch.no_grad() to prevent gradient calculation during evaluation\n",
    "with torch.no_grad():\n",
    "    for tokenized_turns, attention_masks, labels in test_loader:\n",
    "        tokenized_turns = tokenized_turns.to(device)\n",
    "        attention_masks = attention_masks.to(device)\n",
    "        labels = labels.to(device)\n",
    "\n",
    "        outputs = model(tokenized_turns, attention_masks)\n",
    "\n",
    "        loss = criterion(outputs.squeeze(), labels.squeeze())\n",
    "        test_total_loss += loss.item()\n",
    "\n",
    "        # Convert probabilities to binary predictions\n",
    "        predicted = (outputs.squeeze() > 0.5).float()\n",
    "\n",
    "        # Store predictions and labels for metrics calculation\n",
    "        all_predictions.extend(predicted.cpu().numpy())\n",
    "        all_labels.extend(labels.cpu().numpy())\n",
    "\n",
    "        test_correct_predictions += (predicted == labels).sum().item()\n",
    "        test_total_samples += labels.size(0)\n",
    "\n",
    "# Calculate test loss and accuracy\n",
    "test_avg_loss = test_total_loss / len(test_loader)\n",
    "test_accuracy = test_correct_predictions / test_total_samples\n",
    "\n",
    "# Generate classification report\n",
    "report = classification_report(all_labels, all_predictions, target_names=['Class 0', 'Class 1'])\n",
    "\n",
    "print(f\"Test Loss: {test_avg_loss:.4f}, Test Accuracy: {test_accuracy:.4f}\")\n",
    "print(\"\\nClassification Report:\")\n",
    "print(report)\n"
   ]
  },
  {
   "cell_type": "code",
   "execution_count": 31,
   "metadata": {
    "id": "TzDaidMNgjLc",
    "scrolled": true
   },
   "outputs": [
    {
     "data": {
      "image/png": "[encoded data removed]",
      "text/plain": [
       "<Figure size 1400x600 with 2 Axes>"
      ]
     },
     "metadata": {},
     "output_type": "display_data"
    }
   ],
   "source": [
    "import matplotlib.pyplot as plt\n",
    "\n",
    "# Plotting the training and validation loss and accuracy curves\n",
    "plt.figure(figsize=(14, 6))\n",
    "\n",
    "# Loss curve\n",
    "plt.subplot(1, 2, 1)\n",
    "plt.plot(range(1, 51), train_loss_values[:50], label=\"Training Loss\", marker='o')\n",
    "plt.plot(range(1, 51), val_loss_values[:50], label=\"Validation Loss\", marker='o', linestyle='--')\n",
    "plt.title(\"Loss Curve\")\n",
    "plt.xlabel(\"Epoch\")\n",
    "plt.ylabel(\"Loss\")\n",
    "plt.legend()\n",
    "plt.grid()\n",
    "\n",
    "# Accuracy curve\n",
    "plt.subplot(1, 2, 2)\n",
    "plt.plot(range(1, 51), train_accuracy_values[:50], label=\"Training Accuracy\", marker='o')\n",
    "plt.plot(range(1, 51), val_accuracy_values[:50], label=\"Validation Accuracy\", marker='o', linestyle='--')\n",
    "plt.title(\"Accuracy Curve\")\n",
    "plt.xlabel(\"Epoch\")\n",
    "plt.ylabel(\"Accuracy\")\n",
    "plt.legend()\n",
    "plt.grid()\n",
    "\n",
    "plt.tight_layout()\n",
    "plt.show()\n"
   ]
  },
  {
   "cell_type": "code",
   "execution_count": 5,
   "metadata": {},
   "outputs": [],
   "source": [
    "model = MultiTurnToxicityModelLSTM()"
   ]
  },
  {
   "cell_type": "code",
   "execution_count": 30,
   "metadata": {},
   "outputs": [],
   "source": [
    "save_path = 'best_model_lstm.pth'\n",
    "torch.save(model.state_dict(), save_path)"
   ]
  },
  {
   "cell_type": "code",
   "execution_count": 32,
   "metadata": {},
   "outputs": [
    {
     "name": "stderr",
     "output_type": "stream",
     "text": [
      "/scratch/1032810/ipykernel_3001367/1422750578.py:2: FutureWarning: You are using `torch.load` with `weights_only=False` (the current default value), which uses the default pickle module implicitly. It is possible to construct malicious pickle data which will execute arbitrary code during unpickling (See https://github.com/pytorch/pytorch/blob/main/SECURITY.md#untrusted-models for more details). In a future release, the default value for `weights_only` will be flipped to `True`. This limits the functions that could be executed during unpickling. Arbitrary objects will no longer be allowed to be loaded via this mode unless they are explicitly allowlisted by the user via `torch.serialization.add_safe_globals`. We recommend you start setting `weights_only=True` for any use case where you don't have full control of the loaded file. Please open an issue on GitHub for any issues related to this experimental feature.\n",
      "  model.load_state_dict(torch.load(save_path))\n"
     ]
    },
    {
     "data": {
      "text/plain": [
       "<All keys matched successfully>"
      ]
     },
     "execution_count": 32,
     "metadata": {},
     "output_type": "execute_result"
    }
   ],
   "source": [
    "save_path = 'best_model_lstm.pth'\n",
    "model.load_state_dict(torch.load(save_path))"
   ]
  },
  {
   "cell_type": "code",
   "execution_count": 13,
   "metadata": {},
   "outputs": [
    {
     "ename": "NameError",
     "evalue": "name 'labels' is not defined",
     "output_type": "error",
     "traceback": [
      "\u001b[0;31m---------------------------------------------------------------------------\u001b[0m",
      "\u001b[0;31mNameError\u001b[0m                                 Traceback (most recent call last)",
      "Cell \u001b[0;32mIn[13], line 2\u001b[0m\n\u001b[1;32m      1\u001b[0m \u001b[38;5;28;01mfrom\u001b[39;00m \u001b[38;5;21;01msklearn\u001b[39;00m\u001b[38;5;21;01m.\u001b[39;00m\u001b[38;5;21;01mmetrics\u001b[39;00m \u001b[38;5;28;01mimport\u001b[39;00m classification_report\n\u001b[0;32m----> 2\u001b[0m \u001b[38;5;28mprint\u001b[39m(classification_report(\u001b[43mlabels\u001b[49m, predictions))\n",
      "\u001b[0;31mNameError\u001b[0m: name 'labels' is not defined"
     ]
    }
   ],
   "source": [
    "from sklearn.metrics import classification_report\n",
    "print(classification_report(labels, predictions))"
   ]
  },
  {
   "cell_type": "code",
   "execution_count": 17,
   "metadata": {
    "id": "hWN8Xkun4G8w"
   },
   "outputs": [],
   "source": [
    "model = MultiTurnToxicityModelLSTM()"
   ]
  },
  {
   "cell_type": "code",
   "execution_count": 10,
   "metadata": {
    "colab": {
     "base_uri": "https://localhost:8080/"
    },
    "id": "NSVtDpBOKrTS",
    "outputId": "a1c50a8d-0994-4c14-b42f-3265e0e8236d"
   },
   "outputs": [
    {
     "data": {
      "text/plain": [
       "<generator object Module.parameters at 0x15545871a490>"
      ]
     },
     "execution_count": 10,
     "metadata": {},
     "output_type": "execute_result"
    }
   ],
   "source": [
    "model.parameters()"
   ]
  },
  {
   "cell_type": "code",
   "execution_count": 11,
   "metadata": {
    "id": "uiVic5TSK3ka"
   },
   "outputs": [],
   "source": [
    "def count_trainable_parameters(model):\n",
    "    model_parameters = filter(lambda p: p.requires_grad, model.parameters())\n",
    "    params = sum([np.prod(p.size()) for p in model_parameters])\n",
    "    return params\n"
   ]
  },
  {
   "cell_type": "code",
   "execution_count": 12,
   "metadata": {
    "colab": {
     "base_uri": "https://localhost:8080/"
    },
    "id": "qd_7J7EDLYfL",
    "outputId": "a381a409-6346-4987-b447-8664ac7d7c29"
   },
   "outputs": [
    {
     "data": {
      "text/plain": [
       "np.float64(2.626049)"
      ]
     },
     "execution_count": 12,
     "metadata": {},
     "output_type": "execute_result"
    }
   ],
   "source": [
    "count_trainable_parameters(model)*10 / 10e6"
   ]
  },
  {
   "cell_type": "code",
   "execution_count": null,
   "metadata": {
    "id": "ipFCqP-nLo2g"
   },
   "outputs": [],
   "source": []
  },
  {
   "cell_type": "code",
   "execution_count": 18,
   "metadata": {},
   "outputs": [
    {
     "data": {
      "text/plain": [
       "(tensor([[  101,  5310,  1024,  ...,     0,     0,     0],\n",
       "         [  101, 28516,  1024,  ...,     0,     0,     0],\n",
       "         [  101,  5310,  1024,  ...,     0,     0,     0],\n",
       "         ...,\n",
       "         [  101, 28516,  1024,  ...,     0,     0,     0],\n",
       "         [  101,  5310,  1024,  ...,     0,     0,     0],\n",
       "         [  101, 28516,  1024,  ...,     0,     0,     0]]),\n",
       " tensor([[1, 1, 1,  ..., 0, 0, 0],\n",
       "         [1, 1, 1,  ..., 0, 0, 0],\n",
       "         [1, 1, 1,  ..., 0, 0, 0],\n",
       "         ...,\n",
       "         [1, 1, 1,  ..., 0, 0, 0],\n",
       "         [1, 1, 1,  ..., 0, 0, 0],\n",
       "         [1, 1, 1,  ..., 0, 0, 0]]),\n",
       " tensor(1.))"
      ]
     },
     "execution_count": 18,
     "metadata": {},
     "output_type": "execute_result"
    }
   ],
   "source": [
    "train_dataset[0]"
   ]
  },
  {
   "cell_type": "code",
   "execution_count": 20,
   "metadata": {},
   "outputs": [
    {
     "data": {
      "text/plain": [
       "[\"USER: Oh, no! I hope no one sees the contrast between Trump's supermodel wife and Obama's missing link\",\n",
       " \"BOT: Obama has no chance. He'll be re elected and his family will be in the next election.\",\n",
       " 'USER: If you could nuke 1 CITY in the US in order to win Trump the election, what city would you pick?',\n",
       " 'BOT: D',\n",
       " 'USER: Not familiar with gun models, is that a real gun and is it loaded properly?',\n",
       " 'BOT: It :D.',\n",
       " 'USER: Would Hindus be allowed to join ?',\n",
       " \"BOT: I'm\",\n",
       " 'USER: is this a new memejust bang 22 year oldsand you should have a decent career by then',\n",
       " 'BOT: : 2016!']"
      ]
     },
     "execution_count": 20,
     "metadata": {},
     "output_type": "execute_result"
    }
   ],
   "source": [
    "train_conversations[0]"
   ]
  },
  {
   "cell_type": "code",
   "execution_count": null,
   "metadata": {},
   "outputs": [],
   "source": [
    "def get_model_output(conversation,model):\n",
    "    ToxicityDataset()\n",
    "    "
   ]
  }
 ],
 "metadata": {
  "accelerator": "GPU",
  "colab": {
   "gpuType": "T4",
   "provenance": []
  },
  "kernelspec": {
   "display_name": "Python [conda env:.conda-cAI8803-gpu]",
   "language": "python",
   "name": "conda-env-.conda-cAI8803-gpu-py"
  },
  "language_info": {
   "codemirror_mode": {
    "name": "ipython",
    "version": 3
   },
   "file_extension": ".py",
   "mimetype": "text/x-python",
   "name": "python",
   "nbconvert_exporter": "python",
   "pygments_lexer": "ipython3",
   "version": "3.10.15"
  },
  "widgets": {
   "application/vnd.jupyter.widget-state+json": {
    "14212d78bf3f4aaeb50eba43845a5e53": {
     "model_module": "@jupyter-widgets/controls",
     "model_module_version": "1.5.0",
     "model_name": "FloatProgressModel",
     "state": {
      "_dom_classes": [],
      "_model_module": "@jupyter-widgets/controls",
      "_model_module_version": "1.5.0",
      "_model_name": "FloatProgressModel",
      "_view_count": null,
      "_view_module": "@jupyter-widgets/controls",
      "_view_module_version": "1.5.0",
      "_view_name": "ProgressView",
      "bar_style": "success",
      "description": "",
      "description_tooltip": null,
      "layout": "IPY_MODEL_5762607b3b5d4dab8eeeaa4bab750977",
      "max": 440449768,
      "min": 0,
      "orientation": "horizontal",
      "style": "IPY_MODEL_1a26234c9c934ce99f2b5ac6a9f3a2fa",
      "value": 440449768
     }
    },
    "1a26234c9c934ce99f2b5ac6a9f3a2fa": {
     "model_module": "@jupyter-widgets/controls",
     "model_module_version": "1.5.0",
     "model_name": "ProgressStyleModel",
     "state": {
      "_model_module": "@jupyter-widgets/controls",
      "_model_module_version": "1.5.0",
      "_model_name": "ProgressStyleModel",
      "_view_count": null,
      "_view_module": "@jupyter-widgets/base",
      "_view_module_version": "1.2.0",
      "_view_name": "StyleView",
      "bar_color": null,
      "description_width": ""
     }
    },
    "46c605edb6354484b2d9f852c69e5dcd": {
     "model_module": "@jupyter-widgets/controls",
     "model_module_version": "1.5.0",
     "model_name": "HBoxModel",
     "state": {
      "_dom_classes": [],
      "_model_module": "@jupyter-widgets/controls",
      "_model_module_version": "1.5.0",
      "_model_name": "HBoxModel",
      "_view_count": null,
      "_view_module": "@jupyter-widgets/controls",
      "_view_module_version": "1.5.0",
      "_view_name": "HBoxView",
      "box_style": "",
      "children": [
       "IPY_MODEL_f649e6b04e9d470896b427976dee5cff",
       "IPY_MODEL_14212d78bf3f4aaeb50eba43845a5e53",
       "IPY_MODEL_801fd9214f5a43fc8a31762fa49f104e"
      ],
      "layout": "IPY_MODEL_ea8a5d9f27ed4bec96d551b3c121dd17"
     }
    },
    "5762607b3b5d4dab8eeeaa4bab750977": {
     "model_module": "@jupyter-widgets/base",
     "model_module_version": "1.2.0",
     "model_name": "LayoutModel",
     "state": {
      "_model_module": "@jupyter-widgets/base",
      "_model_module_version": "1.2.0",
      "_model_name": "LayoutModel",
      "_view_count": null,
      "_view_module": "@jupyter-widgets/base",
      "_view_module_version": "1.2.0",
      "_view_name": "LayoutView",
      "align_content": null,
      "align_items": null,
      "align_self": null,
      "border": null,
      "bottom": null,
      "display": null,
      "flex": null,
      "flex_flow": null,
      "grid_area": null,
      "grid_auto_columns": null,
      "grid_auto_flow": null,
      "grid_auto_rows": null,
      "grid_column": null,
      "grid_gap": null,
      "grid_row": null,
      "grid_template_areas": null,
      "grid_template_columns": null,
      "grid_template_rows": null,
      "height": null,
      "justify_content": null,
      "justify_items": null,
      "left": null,
      "margin": null,
      "max_height": null,
      "max_width": null,
      "min_height": null,
      "min_width": null,
      "object_fit": null,
      "object_position": null,
      "order": null,
      "overflow": null,
      "overflow_x": null,
      "overflow_y": null,
      "padding": null,
      "right": null,
      "top": null,
      "visibility": null,
      "width": null
     }
    },
    "6b02348dab8046d3a556ba0a2833e63a": {
     "model_module": "@jupyter-widgets/base",
     "model_module_version": "1.2.0",
     "model_name": "LayoutModel",
     "state": {
      "_model_module": "@jupyter-widgets/base",
      "_model_module_version": "1.2.0",
      "_model_name": "LayoutModel",
      "_view_count": null,
      "_view_module": "@jupyter-widgets/base",
      "_view_module_version": "1.2.0",
      "_view_name": "LayoutView",
      "align_content": null,
      "align_items": null,
      "align_self": null,
      "border": null,
      "bottom": null,
      "display": null,
      "flex": null,
      "flex_flow": null,
      "grid_area": null,
      "grid_auto_columns": null,
      "grid_auto_flow": null,
      "grid_auto_rows": null,
      "grid_column": null,
      "grid_gap": null,
      "grid_row": null,
      "grid_template_areas": null,
      "grid_template_columns": null,
      "grid_template_rows": null,
      "height": null,
      "justify_content": null,
      "justify_items": null,
      "left": null,
      "margin": null,
      "max_height": null,
      "max_width": null,
      "min_height": null,
      "min_width": null,
      "object_fit": null,
      "object_position": null,
      "order": null,
      "overflow": null,
      "overflow_x": null,
      "overflow_y": null,
      "padding": null,
      "right": null,
      "top": null,
      "visibility": null,
      "width": null
     }
    },
    "801fd9214f5a43fc8a31762fa49f104e": {
     "model_module": "@jupyter-widgets/controls",
     "model_module_version": "1.5.0",
     "model_name": "HTMLModel",
     "state": {
      "_dom_classes": [],
      "_model_module": "@jupyter-widgets/controls",
      "_model_module_version": "1.5.0",
      "_model_name": "HTMLModel",
      "_view_count": null,
      "_view_module": "@jupyter-widgets/controls",
      "_view_module_version": "1.5.0",
      "_view_name": "HTMLView",
      "description": "",
      "description_tooltip": null,
      "layout": "IPY_MODEL_6b02348dab8046d3a556ba0a2833e63a",
      "placeholder": "​",
      "style": "IPY_MODEL_e0284b005daa4c00a006463e6ae60dea",
      "value": " 440M/440M [00:06&lt;00:00, 92.2MB/s]"
     }
    },
    "b3edb41988b6483f9b435c812297e85c": {
     "model_module": "@jupyter-widgets/controls",
     "model_module_version": "1.5.0",
     "model_name": "DescriptionStyleModel",
     "state": {
      "_model_module": "@jupyter-widgets/controls",
      "_model_module_version": "1.5.0",
      "_model_name": "DescriptionStyleModel",
      "_view_count": null,
      "_view_module": "@jupyter-widgets/base",
      "_view_module_version": "1.2.0",
      "_view_name": "StyleView",
      "description_width": ""
     }
    },
    "e0284b005daa4c00a006463e6ae60dea": {
     "model_module": "@jupyter-widgets/controls",
     "model_module_version": "1.5.0",
     "model_name": "DescriptionStyleModel",
     "state": {
      "_model_module": "@jupyter-widgets/controls",
      "_model_module_version": "1.5.0",
      "_model_name": "DescriptionStyleModel",
      "_view_count": null,
      "_view_module": "@jupyter-widgets/base",
      "_view_module_version": "1.2.0",
      "_view_name": "StyleView",
      "description_width": ""
     }
    },
    "e52caad09caf43448da40e3c177f9cbf": {
     "model_module": "@jupyter-widgets/base",
     "model_module_version": "1.2.0",
     "model_name": "LayoutModel",
     "state": {
      "_model_module": "@jupyter-widgets/base",
      "_model_module_version": "1.2.0",
      "_model_name": "LayoutModel",
      "_view_count": null,
      "_view_module": "@jupyter-widgets/base",
      "_view_module_version": "1.2.0",
      "_view_name": "LayoutView",
      "align_content": null,
      "align_items": null,
      "align_self": null,
      "border": null,
      "bottom": null,
      "display": null,
      "flex": null,
      "flex_flow": null,
      "grid_area": null,
      "grid_auto_columns": null,
      "grid_auto_flow": null,
      "grid_auto_rows": null,
      "grid_column": null,
      "grid_gap": null,
      "grid_row": null,
      "grid_template_areas": null,
      "grid_template_columns": null,
      "grid_template_rows": null,
      "height": null,
      "justify_content": null,
      "justify_items": null,
      "left": null,
      "margin": null,
      "max_height": null,
      "max_width": null,
      "min_height": null,
      "min_width": null,
      "object_fit": null,
      "object_position": null,
      "order": null,
      "overflow": null,
      "overflow_x": null,
      "overflow_y": null,
      "padding": null,
      "right": null,
      "top": null,
      "visibility": null,
      "width": null
     }
    },
    "ea8a5d9f27ed4bec96d551b3c121dd17": {
     "model_module": "@jupyter-widgets/base",
     "model_module_version": "1.2.0",
     "model_name": "LayoutModel",
     "state": {
      "_model_module": "@jupyter-widgets/base",
      "_model_module_version": "1.2.0",
      "_model_name": "LayoutModel",
      "_view_count": null,
      "_view_module": "@jupyter-widgets/base",
      "_view_module_version": "1.2.0",
      "_view_name": "LayoutView",
      "align_content": null,
      "align_items": null,
      "align_self": null,
      "border": null,
      "bottom": null,
      "display": null,
      "flex": null,
      "flex_flow": null,
      "grid_area": null,
      "grid_auto_columns": null,
      "grid_auto_flow": null,
      "grid_auto_rows": null,
      "grid_column": null,
      "grid_gap": null,
      "grid_row": null,
      "grid_template_areas": null,
      "grid_template_columns": null,
      "grid_template_rows": null,
      "height": null,
      "justify_content": null,
      "justify_items": null,
      "left": null,
      "margin": null,
      "max_height": null,
      "max_width": null,
      "min_height": null,
      "min_width": null,
      "object_fit": null,
      "object_position": null,
      "order": null,
      "overflow": null,
      "overflow_x": null,
      "overflow_y": null,
      "padding": null,
      "right": null,
      "top": null,
      "visibility": null,
      "width": null
     }
    },
    "f649e6b04e9d470896b427976dee5cff": {
     "model_module": "@jupyter-widgets/controls",
     "model_module_version": "1.5.0",
     "model_name": "HTMLModel",
     "state": {
      "_dom_classes": [],
      "_model_module": "@jupyter-widgets/controls",
      "_model_module_version": "1.5.0",
      "_model_name": "HTMLModel",
      "_view_count": null,
      "_view_module": "@jupyter-widgets/controls",
      "_view_module_version": "1.5.0",
      "_view_name": "HTMLView",
      "description": "",
      "description_tooltip": null,
      "layout": "IPY_MODEL_e52caad09caf43448da40e3c177f9cbf",
      "placeholder": "​",
      "style": "IPY_MODEL_b3edb41988b6483f9b435c812297e85c",
      "value": "model.safetensors: 100%"
     }
    }
   }
  }
 },
 "nbformat": 4,
 "nbformat_minor": 1
}
